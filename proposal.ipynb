{
 "metadata": {
  "language_info": {
   "codemirror_mode": {
    "name": "ipython",
    "version": 3
   },
   "file_extension": ".py",
   "mimetype": "text/x-python",
   "name": "python",
   "nbconvert_exporter": "python",
   "pygments_lexer": "ipython3",
   "version": 3
  },
  "orig_nbformat": 2
 },
 "nbformat": 4,
 "nbformat_minor": 2,
 "cells": [
  {
   "source": [
    "* Adam Kowalchyk and Danielle Huber\n",
    "* CPSC 322 Spring 2021\n",
    "* Final Project\n",
    "* 07 April 2021\n"
   ],
   "cell_type": "markdown",
   "metadata": {}
  },
  {
   "source": [
    "# Project Proposal (Contraceptive Classification)"
   ],
   "cell_type": "markdown",
   "metadata": {}
  },
  {
   "source": [
    "## Dataset Description"
   ],
   "cell_type": "markdown",
   "metadata": {}
  },
  {
   "source": [
    "For our final project, we chose a dataset that provides information on several socioeconomic factors of families in Indonesia, along with each family's choice of contraceptive method. We obtained the dataset from the UCI Machine Learning Repository, originally as a .data file. However, for simplicity, we converted it to a .csv file. We will attempt to classify the family's contraceptive method (no-use, long-term, or short-term contraceptive method). To perform this classification, we will look at several attributes, mainly: the wife's age, the wife's education, the husband's education, number of children already in the family, the wife's religion, and the family's standard of living index. Apart from the wife's age and the number of children already in the family, the rest of the attributes are categorical. "
   ],
   "cell_type": "markdown",
   "metadata": {}
  },
  {
   "source": [
    "## Implementation and Technical Merit"
   ],
   "cell_type": "markdown",
   "metadata": {}
  },
  {
   "source": [
    "The dataset has no missing values, and there are no anticipated challenges for pre-processing. We might add a header line, but this is likely the only modification that will be made to the dataset. The number of attributes is not extremely large (there are only 9); however, we will likely choose those that seem most relevant/correlated to the classification value based on our findings in the EDA. At the moment, we anticipate that standard of living index, the wife's religion, and the number of children already in the family will be useful attributes for classifying the contraceptive method for the family. "
   ],
   "cell_type": "markdown",
   "metadata": {}
  },
  {
   "source": [
    "## Potential Impact of the Results "
   ],
   "cell_type": "markdown",
   "metadata": {}
  },
  {
   "source": [
    "Successfully predicting the contraceptive method for a family based on several socioeconomic factors would be useful to non-profit organizations that try to locate communities with either no-use or short-term contraceptive methods. These organizations typically have the goal of providing birth-control educational resources in an effort to lower unprotected sex rates in the area. Examples of these organizations include SIECUS and FoSE."
   ],
   "cell_type": "markdown",
   "metadata": {}
  }
 ]
}